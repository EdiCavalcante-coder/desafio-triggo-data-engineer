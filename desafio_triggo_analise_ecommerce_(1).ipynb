{
  "cells": [
    {
      "cell_type": "markdown",
      "metadata": {
        "id": "view-in-github",
        "colab_type": "text"
      },
      "source": [
        "<a href=\"https://colab.research.google.com/github/EdiCavalcante-coder/desafio-triggo-data-engineer/blob/main/desafio_triggo_analise_ecommerce_(1).ipynb\" target=\"_parent\"><img src=\"https://colab.research.google.com/assets/colab-badge.svg\" alt=\"Open In Colab\"/></a>"
      ]
    },
    {
      "cell_type": "markdown",
      "id": "e28e73ac",
      "metadata": {
        "id": "e28e73ac"
      },
      "source": [
        "# 📊 Análise de Dados do E-commerce Brasileiro – Desafio Triggo.ai\n",
        "\n",
        "Este notebook apresenta uma análise exploratória dos dados do e-commerce brasileiro, com base no dataset fornecido no desafio. O foco foi entender o comportamento dos clientes e a logística de entrega, usando Python e bibliotecas como pandas e matplotlib."
      ]
    },
    {
      "cell_type": "code",
      "execution_count": null,
      "id": "63480265",
      "metadata": {
        "id": "63480265"
      },
      "outputs": [],
      "source": [
        "import pandas as pd\n",
        "import matplotlib.pyplot as plt\n",
        "import seaborn as sns\n",
        "import zipfile\n",
        "\n",
        "# Descompactar o arquivo zip\n",
        "with zipfile.ZipFile('/content/brazilian-ecommerce.zip', 'r') as zip_ref:\n",
        "    zip_ref.extractall('/content')\n",
        "\n",
        "# Carregar os arquivos CSV\n",
        "df_customers = pd.read_csv('/content/olist_customers_dataset.csv')\n",
        "df_orders = pd.read_csv('/content/olist_orders_dataset.csv')\n",
        "df_order_items = pd.read_csv('/content/olist_order_items_dataset.csv')"
      ]
    },
    {
      "cell_type": "code",
      "execution_count": null,
      "id": "963d90e3",
      "metadata": {
        "id": "963d90e3"
      },
      "outputs": [],
      "source": [
        "# Unir datasets: clientes, pedidos e itens do pedido\n",
        "df_orders_customers = df_orders.merge(df_customers, on='customer_id')\n",
        "df_orders_full = df_orders_customers.merge(df_order_items, on='order_id')"
      ]
    },
    {
      "cell_type": "code",
      "execution_count": null,
      "id": "67d755e9",
      "metadata": {
        "id": "67d755e9"
      },
      "outputs": [],
      "source": [
        "# Calcular o frete médio por estado\n",
        "frete_por_estado = df_orders_full.groupby('customer_state')['freight_value'].mean().sort_values(ascending=False)\n",
        "frete_por_estado"
      ]
    },
    {
      "cell_type": "code",
      "execution_count": null,
      "id": "758f9ca0",
      "metadata": {
        "id": "758f9ca0"
      },
      "outputs": [],
      "source": [
        "# Visualização do frete médio por estado\n",
        "plt.figure(figsize=(12,6))\n",
        "sns.barplot(x=frete_por_estado.index, y=frete_por_estado.values, palette='viridis')\n",
        "plt.title('Valor médio do frete por estado')\n",
        "plt.xlabel('Estado')\n",
        "plt.ylabel('Valor médio do frete (R$)')\n",
        "plt.xticks(rotation=45)\n",
        "plt.tight_layout()\n",
        "plt.show()"
      ]
    }
  ],
  "metadata": {
    "colab": {
      "provenance": [],
      "include_colab_link": true
    }
  },
  "nbformat": 4,
  "nbformat_minor": 5
}